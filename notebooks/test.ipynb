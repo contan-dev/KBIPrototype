{
 "cells": [
  {
   "cell_type": "code",
   "execution_count": 1,
   "metadata": {},
   "outputs": [
    {
     "name": "stdout",
     "output_type": "stream",
     "text": [
      "printing path /Users/connor/Documents/Projects/KBIPrototype/notebooks\n",
      "does the project exist? True\n",
      "project path: /Users/connor/Documents/Projects/KBIPrototype/notebooks/kbi_data/kedro_project\n",
      "project path /Users/connor/Documents/Projects/KBIPrototype/notebooks/kbi_data/kedro_project/kbi-project/src/kbi_project/pipelines/test_pipe\n",
      "<kbi.pipeline_interactive_builder.PipelineInteractiveBuilder object at 0x1079d0390>\n"
     ]
    }
   ],
   "source": [
    "from kbi import PipelineInteractiveBuilder\n",
    "\n",
    "kbi_project_path = f'/Users/connor/Documents/Projects/KBIPrototype/notebooks'\n",
    "kbi_builder = PipelineInteractiveBuilder(\"test_pipe\", kbi_project_path)\n",
    "print(kbi_builder)\n",
    "\n",
    "\"\"\"\n",
    "Create a new node for my pipeline. Where the rubber hits the road\n",
    "\"\"\"\n",
    "@kbi_builder.kbi_node()\n",
    "def hi():\n",
    "    print(\"This is a decorated node!\")"
   ]
  },
  {
   "cell_type": "code",
   "execution_count": 2,
   "metadata": {},
   "outputs": [
    {
     "name": "stdout",
     "output_type": "stream",
     "text": [
      "query result <sqlite3.Cursor object at 0x1079e2b40>\n",
      "result: None\n",
      "Hey I'm running heeya!\n"
     ]
    }
   ],
   "source": [
    "hi()"
   ]
  },
  {
   "cell_type": "code",
   "execution_count": 28,
   "metadata": {},
   "outputs": [
    {
     "name": "stdout",
     "output_type": "stream",
     "text": [
      "start\n"
     ]
    }
   ],
   "source": [
    "def f(a):\n",
    "    print('start')\n",
    "    for i in range(10):\n",
    "        print('hi')\n",
    "        yield hi\n",
    "\n",
    "b = f('1')"
   ]
  },
  {
   "cell_type": "code",
   "execution_count": 25,
   "metadata": {},
   "outputs": [
    {
     "name": "stdout",
     "output_type": "stream",
     "text": [
      "start\n",
      "hi\n"
     ]
    },
    {
     "data": {
      "text/plain": [
       "<function __main__.hi()>"
      ]
     },
     "execution_count": 25,
     "metadata": {},
     "output_type": "execute_result"
    }
   ],
   "source": [
    "next(b)"
   ]
  },
  {
   "cell_type": "code",
   "execution_count": null,
   "metadata": {},
   "outputs": [],
   "source": []
  }
 ],
 "metadata": {
  "kernelspec": {
   "display_name": "my-virtualenv-name",
   "language": "python",
   "name": "my-virtualenv-name"
  },
  "language_info": {
   "codemirror_mode": {
    "name": "ipython",
    "version": 3
   },
   "file_extension": ".py",
   "mimetype": "text/x-python",
   "name": "python",
   "nbconvert_exporter": "python",
   "pygments_lexer": "ipython3",
   "version": "3.11.7"
  }
 },
 "nbformat": 4,
 "nbformat_minor": 2
}
