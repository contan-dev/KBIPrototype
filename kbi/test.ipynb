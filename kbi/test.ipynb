{
 "cells": [
  {
   "cell_type": "code",
   "execution_count": 1,
   "metadata": {},
   "outputs": [
    {
     "name": "stdout",
     "output_type": "stream",
     "text": [
      "printing path /Users/connor/Documents/Projects/KBIProto/notebooks\n",
      "does the project exist? True\n",
      "project path: /Users/connor/Documents/Projects/KBIProto/notebooks/kbi_data/kedro_project\n",
      "project path /Users/connor/Documents/Projects/KBIProto/notebooks/kbi_data/kedro_project/kbi-project/src/kbi_project/pipelines/test_pipe\n",
      "<kbi.pipeline_interactive_builder.PipelineInteractiveBuilder object at 0x1113f0310>\n"
     ]
    }
   ],
   "source": [
    "from kbi import PipelineInteractiveBuilder\n",
    "\n",
    "kbi_project_path = f'/Users/connor/Documents/Projects/KBIProto/notebooks'\n",
    "kbi_builder = PipelineInteractiveBuilder(\"test_pipe\", kbi_project_path)\n",
    "print(kbi_builder)\n",
    "\n",
    "\"\"\"\n",
    "Create a new node for my pipeline. Where the rubber hits the road\n",
    "\"\"\"\n",
    "@kbi_builder.kbi_node(\n",
    "    outputs=\"two\"\n",
    ")\n",
    "def hi() -> float:\n",
    "    # Doing some stuff\n",
    "    return 1 + 1"
   ]
  },
  {
   "cell_type": "code",
   "execution_count": 2,
   "metadata": {},
   "outputs": [
    {
     "name": "stdout",
     "output_type": "stream",
     "text": [
      "node_name hi\n",
      "running  SELECT * FROM nodes WHERE pipeline_name = test_pipe AND node_name = hi;\n",
      "full result <sqlite3.Cursor object at 0x1114e7b40>\n",
      "result =  None\n",
      "executing INSERT INTO nodes(node_name, node_content, inputs, outputs, tags, confirms, namespace, pipeline_name) VALUES(hi, def hi() -> float:\n",
      "    # Doing some stuff\n",
      "    return 1 + 1\n",
      ", None, two, None, None, None, test_pipe));\n",
      "nodes_list [('hi', 'def hi() -> float:\\n    # Doing some stuff\\n    return 1 + 1\\n', None, '\"two\"', None, None, None, 'test_pipe')]\n",
      "nodes_fun_list [('hi', 'def hi() -> float:\\n    # Doing some stuff\\n    return 1 + 1\\n', None, '\"two\"', None, None, None, 'test_pipe')]\n",
      "nodes_formatted [{'func': 'hi', 'name': '\"hi\"', 'inputs': None, 'outputs': '\"two\"', 'tags': None, 'confirms': None, 'namespace': None}]\n",
      "result: None\n"
     ]
    }
   ],
   "source": [
    "hi()"
   ]
  },
  {
   "cell_type": "code",
   "execution_count": 3,
   "metadata": {},
   "outputs": [],
   "source": [
    "@kbi_builder.kbi_node(\n",
    "    inputs=\"two\",\n",
    "    outputs=\"three\"\n",
    ")\n",
    "def bye(two: float) -> float:\n",
    "    # hi test 4\n",
    "    return two + 1"
   ]
  },
  {
   "cell_type": "code",
   "execution_count": 4,
   "metadata": {},
   "outputs": [
    {
     "name": "stdout",
     "output_type": "stream",
     "text": [
      "node_name bye\n",
      "running  SELECT * FROM nodes WHERE pipeline_name = test_pipe AND node_name = bye;\n",
      "full result <sqlite3.Cursor object at 0x111531bc0>\n",
      "result =  None\n",
      "executing INSERT INTO nodes(node_name, node_content, inputs, outputs, tags, confirms, namespace, pipeline_name) VALUES(bye, def bye(two: float) -> float:\n",
      "    # hi test 4\n",
      "    return two + 1\n",
      ", two, three, None, None, None, test_pipe));\n",
      "nodes_list [('hi', 'def hi() -> float:\\n    # Doing some stuff\\n    return 1 + 1\\n', None, '\"two\"', None, None, None, 'test_pipe'), ('bye', 'def bye(two: float) -> float:\\n    # hi test 4\\n    return two + 1\\n', '\"two\"', '\"three\"', None, None, None, 'test_pipe')]\n",
      "nodes_fun_list [('hi', 'def hi() -> float:\\n    # Doing some stuff\\n    return 1 + 1\\n', None, '\"two\"', None, None, None, 'test_pipe'), ('bye', 'def bye(two: float) -> float:\\n    # hi test 4\\n    return two + 1\\n', '\"two\"', '\"three\"', None, None, None, 'test_pipe')]\n",
      "nodes_formatted [{'func': 'hi', 'name': '\"hi\"', 'inputs': None, 'outputs': '\"two\"', 'tags': None, 'confirms': None, 'namespace': None}, {'func': 'bye', 'name': '\"bye\"', 'inputs': '\"two\"', 'outputs': '\"three\"', 'tags': None, 'confirms': None, 'namespace': None}]\n",
      "result: None\n"
     ]
    }
   ],
   "source": [
    "bye()"
   ]
  },
  {
   "cell_type": "code",
   "execution_count": 28,
   "metadata": {},
   "outputs": [
    {
     "name": "stdout",
     "output_type": "stream",
     "text": [
      "start\n"
     ]
    }
   ],
   "source": [
    "def f(a):\n",
    "    print('start')\n",
    "    for i in range(10):\n",
    "        print('hi')\n",
    "        yield hi\n",
    "\n",
    "b = f('1')"
   ]
  },
  {
   "cell_type": "code",
   "execution_count": 25,
   "metadata": {},
   "outputs": [
    {
     "name": "stdout",
     "output_type": "stream",
     "text": [
      "start\n",
      "hi\n"
     ]
    },
    {
     "data": {
      "text/plain": [
       "<function __main__.hi()>"
      ]
     },
     "execution_count": 25,
     "metadata": {},
     "output_type": "execute_result"
    }
   ],
   "source": [
    "next(b)"
   ]
  },
  {
   "cell_type": "code",
   "execution_count": null,
   "metadata": {},
   "outputs": [],
   "source": []
  }
 ],
 "metadata": {
  "kernelspec": {
   "display_name": "my-virtualenv-name",
   "language": "python",
   "name": "my-virtualenv-name"
  },
  "language_info": {
   "codemirror_mode": {
    "name": "ipython",
    "version": 3
   },
   "file_extension": ".py",
   "mimetype": "text/x-python",
   "name": "python",
   "nbconvert_exporter": "python",
   "pygments_lexer": "ipython3",
   "version": "3.11.7"
  }
 },
 "nbformat": 4,
 "nbformat_minor": 4
}
