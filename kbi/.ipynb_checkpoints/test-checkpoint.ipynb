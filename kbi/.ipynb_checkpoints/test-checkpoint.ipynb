{
 "cells": [
  {
   "cell_type": "code",
   "execution_count": 1,
   "metadata": {},
   "outputs": [
    {
     "ename": "ModuleNotFoundError",
     "evalue": "No module named 'kbi'",
     "output_type": "error",
     "traceback": [
      "\u001b[0;31m---------------------------------------------------------------------------\u001b[0m",
      "\u001b[0;31mModuleNotFoundError\u001b[0m                       Traceback (most recent call last)",
      "Cell \u001b[0;32mIn[1], line 1\u001b[0m\n\u001b[0;32m----> 1\u001b[0m \u001b[38;5;28;01mfrom\u001b[39;00m\u001b[38;5;250m \u001b[39m\u001b[38;5;21;01mkbi\u001b[39;00m\u001b[38;5;250m \u001b[39m\u001b[38;5;28;01mimport\u001b[39;00m PipelineInteractiveBuilder\n\u001b[1;32m      3\u001b[0m kbi_project_path \u001b[38;5;241m=\u001b[39m \u001b[38;5;124mf\u001b[39m\u001b[38;5;124m'\u001b[39m\u001b[38;5;124m/Users/connor/Documents/Projects/KBIPrototype/notebooks\u001b[39m\u001b[38;5;124m'\u001b[39m\n\u001b[1;32m      4\u001b[0m kbi_builder \u001b[38;5;241m=\u001b[39m PipelineInteractiveBuilder(\u001b[38;5;124m\"\u001b[39m\u001b[38;5;124mtest_pipe\u001b[39m\u001b[38;5;124m\"\u001b[39m, kbi_project_path)\n",
      "\u001b[0;31mModuleNotFoundError\u001b[0m: No module named 'kbi'"
     ]
    }
   ],
   "source": [
    "from kbi import PipelineInteractiveBuilder\n",
    "\n",
    "kbi_project_path = f'/Users/connor/Documents/Projects/KBIPrototype/notebooks'\n",
    "kbi_builder = PipelineInteractiveBuilder(\"test_pipe\", kbi_project_path)\n",
    "print(kbi_builder)\n",
    "\n",
    "\"\"\"\n",
    "Create a new node for my pipeline. Where the rubber hits the road\n",
    "\"\"\"\n",
    "@kbi_builder.kbi_node()\n",
    "def hi():\n",
    "    print(\"This is a decorated node!\")"
   ]
  },
  {
   "cell_type": "code",
   "execution_count": 2,
   "metadata": {},
   "outputs": [
    {
     "name": "stdout",
     "output_type": "stream",
     "text": [
      "query result <sqlite3.Cursor object at 0x1079e2b40>\n",
      "result: None\n",
      "Hey I'm running heeya!\n"
     ]
    }
   ],
   "source": [
    "hi()"
   ]
  },
  {
   "cell_type": "code",
   "execution_count": 28,
   "metadata": {},
   "outputs": [
    {
     "name": "stdout",
     "output_type": "stream",
     "text": [
      "start\n"
     ]
    }
   ],
   "source": [
    "def f(a):\n",
    "    print('start')\n",
    "    for i in range(10):\n",
    "        print('hi')\n",
    "        yield hi\n",
    "\n",
    "b = f('1')"
   ]
  },
  {
   "cell_type": "code",
   "execution_count": 25,
   "metadata": {},
   "outputs": [
    {
     "name": "stdout",
     "output_type": "stream",
     "text": [
      "start\n",
      "hi\n"
     ]
    },
    {
     "data": {
      "text/plain": [
       "<function __main__.hi()>"
      ]
     },
     "execution_count": 25,
     "metadata": {},
     "output_type": "execute_result"
    }
   ],
   "source": [
    "next(b)"
   ]
  },
  {
   "cell_type": "code",
   "execution_count": null,
   "metadata": {},
   "outputs": [],
   "source": []
  }
 ],
 "metadata": {
  "kernelspec": {
   "display_name": "my-virtualenv-name",
   "language": "python",
   "name": "my-virtualenv-name"
  },
  "language_info": {
   "codemirror_mode": {
    "name": "ipython",
    "version": 3
   },
   "file_extension": ".py",
   "mimetype": "text/x-python",
   "name": "python",
   "nbconvert_exporter": "python",
   "pygments_lexer": "ipython3",
   "version": "3.11.7"
  }
 },
 "nbformat": 4,
 "nbformat_minor": 4
}
